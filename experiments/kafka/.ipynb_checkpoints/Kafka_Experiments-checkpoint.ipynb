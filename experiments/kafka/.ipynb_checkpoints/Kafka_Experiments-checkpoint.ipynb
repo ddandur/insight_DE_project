{
 "cells": [
  {
   "cell_type": "code",
   "execution_count": 1,
   "metadata": {
    "collapsed": false
   },
   "outputs": [
    {
     "name": "stdout",
     "output_type": "stream",
     "text": [
      "kafkatestkafkatestkafkatestkafkatestkafkatestkafkatestkafkatestkafkatestkafkatestkafkatestkafkatestk\n",
      "100\n"
     ]
    }
   ],
   "source": [
    "msg_count = 1000\n",
    "msg_size = 100\n",
    "msg_payload = ('kafkatest' * 20).encode()[:msg_size]\n",
    "print(msg_payload)\n",
    "print(len(msg_payload))"
   ]
  },
  {
   "cell_type": "code",
   "execution_count": 2,
   "metadata": {
    "collapsed": true
   },
   "outputs": [],
   "source": [
    "import time\n",
    "\n",
    "producer_timings = {}\n",
    "consumer_timings = {}"
   ]
  },
  {
   "cell_type": "code",
   "execution_count": 3,
   "metadata": {
    "collapsed": true
   },
   "outputs": [],
   "source": [
    "# experiment with python-kafka\n",
    "from kafka import KafkaProducer\n",
    "from kafka import KafkaConsumer"
   ]
  },
  {
   "cell_type": "code",
   "execution_count": 4,
   "metadata": {
    "collapsed": true
   },
   "outputs": [],
   "source": [
    "# try to get a simple stream doing"
   ]
  },
  {
   "cell_type": "code",
   "execution_count": 7,
   "metadata": {
    "collapsed": false
   },
   "outputs": [],
   "source": [
    "# make a producer\n",
    "producer = KafkaProducer()"
   ]
  },
  {
   "cell_type": "code",
   "execution_count": 8,
   "metadata": {
    "collapsed": true
   },
   "outputs": [],
   "source": [
    "topic = 'python-kafka-topic'"
   ]
  },
  {
   "cell_type": "code",
   "execution_count": 9,
   "metadata": {
    "collapsed": false
   },
   "outputs": [
    {
     "data": {
      "text/plain": [
       "<kafka.producer.future.FutureRecordMetadata at 0x1050e8310>"
      ]
     },
     "execution_count": 9,
     "metadata": {},
     "output_type": "execute_result"
    }
   ],
   "source": [
    "# send message to topic\n",
    "producer.send(topic, \"SENT FROM IPYTHON\")"
   ]
  },
  {
   "cell_type": "code",
   "execution_count": 10,
   "metadata": {
    "collapsed": false
   },
   "outputs": [
    {
     "data": {
      "text/plain": [
       "<kafka.producer.future.FutureRecordMetadata at 0x105064550>"
      ]
     },
     "execution_count": 10,
     "metadata": {},
     "output_type": "execute_result"
    }
   ],
   "source": [
    "producer.send(topic, \"SECOND SENT FROM IPYTHON\")"
   ]
  },
  {
   "cell_type": "code",
   "execution_count": 11,
   "metadata": {
    "collapsed": false
   },
   "outputs": [
    {
     "data": {
      "text/plain": [
       "<kafka.producer.future.FutureRecordMetadata at 0x105064650>"
      ]
     },
     "execution_count": 11,
     "metadata": {},
     "output_type": "execute_result"
    }
   ],
   "source": [
    "producer.send(topic, \"THIRD SENT FROM IPYTHON\")"
   ]
  },
  {
   "cell_type": "code",
   "execution_count": 19,
   "metadata": {
    "collapsed": false
   },
   "outputs": [
    {
     "data": {
      "text/plain": [
       "<kafka.producer.future.FutureRecordMetadata at 0x105134710>"
      ]
     },
     "execution_count": 19,
     "metadata": {},
     "output_type": "execute_result"
    }
   ],
   "source": [
    "producer.send(topic, \"YEAH BOIII YOU KNOW WHAT TIME IT IS 12:55 PACIFIC\")"
   ]
  },
  {
   "cell_type": "code",
   "execution_count": null,
   "metadata": {
    "collapsed": false
   },
   "outputs": [],
   "source": [
    "producer.send(topic, \"FOURTH SENT FROM IPYTHON\")"
   ]
  },
  {
   "cell_type": "code",
   "execution_count": null,
   "metadata": {
    "collapsed": false
   },
   "outputs": [],
   "source": [
    "producer.send(topic, \"FIFTH SENT FROM IPYTHON\")"
   ]
  },
  {
   "cell_type": "code",
   "execution_count": null,
   "metadata": {
    "collapsed": false
   },
   "outputs": [],
   "source": [
    "producer.send(topic, \"SIXTH SENT FROM IPYTHON\")"
   ]
  },
  {
   "cell_type": "code",
   "execution_count": null,
   "metadata": {
    "collapsed": true
   },
   "outputs": [],
   "source": [
    "producer.send(topic, \"SEVENTH SENT FROM IPYTHON\")"
   ]
  },
  {
   "cell_type": "code",
   "execution_count": null,
   "metadata": {
    "collapsed": false
   },
   "outputs": [],
   "source": [
    "producer.send(\"new_topic_test_from_ipython\", \"FIRST FOR NEW TOPIC\")"
   ]
  },
  {
   "cell_type": "code",
   "execution_count": null,
   "metadata": {
    "collapsed": true
   },
   "outputs": [],
   "source": [
    "# can find the servers in terminal\n",
    "bootstrap_servers = 'localhost:2181'"
   ]
  },
  {
   "cell_type": "code",
   "execution_count": 14,
   "metadata": {
    "collapsed": false
   },
   "outputs": [],
   "source": [
    "# create consumer object\n",
    "# use the consumer_timeout_ms option to avoid having cell hang if it isn't collecting any more \n",
    "consumer = KafkaConsumer(\n",
    "        # bootstrap_servers=bootstrap_servers,\n",
    "        auto_offset_reset = 'earliest', # start at earliest topic\n",
    "        group_id = None, # do no offest commit, \n",
    "        consumer_timeout_ms=1000\n",
    "    )"
   ]
  },
  {
   "cell_type": "code",
   "execution_count": 17,
   "metadata": {
    "collapsed": true
   },
   "outputs": [],
   "source": [
    "# set consumer to consume topic\n",
    "consumer.subscribe([topic])"
   ]
  },
  {
   "cell_type": "code",
   "execution_count": 20,
   "metadata": {
    "collapsed": false
   },
   "outputs": [
    {
     "name": "stdout",
     "output_type": "stream",
     "text": [
      "ConsumerRecord(topic=u'python-kafka-topic', partition=0, offset=9, timestamp=1496951749029, timestamp_type=0, key=None, value='YEAH BOIII YOU KNOW WHAT TIME IT IS 12:55 PACIFIC', checksum=1006540737, serialized_key_size=-1, serialized_value_size=49)\n"
     ]
    }
   ],
   "source": [
    "for message in consumer: \n",
    "    print message"
   ]
  },
  {
   "cell_type": "code",
   "execution_count": 58,
   "metadata": {
    "collapsed": false
   },
   "outputs": [],
   "source": [
    "# function to send ~100 records similar to NASA data to kafka broker\n",
    "\n",
    "def send_simple_logs(msg_count = 100, topic=\"default_topic\"):\n",
    "    \"\"\" Make simple log producer - for now don't worry about good-looking logs\n",
    "    \"\"\"\n",
    "    # create producer\n",
    "    producer = KafkaProducer()\n",
    "    # send msg_count messages to topic\n",
    "    for i in xrange(msg_count):\n",
    "        producer.send(topic, \"SENT MESSAGE {} FROM IPYTHON\".format(i))"
   ]
  },
  {
   "cell_type": "code",
   "execution_count": null,
   "metadata": {
    "collapsed": true
   },
   "outputs": [],
   "source": [
    "from random import randint\n",
    "\n",
    "def send_nasa_logs(msg_count=100, topic=\"default_topic\"):\n",
    "    \"\"\" Send logs in the form of the NASA log dataset\n",
    "    \n",
    "    Log format: \n",
    "    \n",
    "    129.94.144.152 - - [01/Jul/1995:00:00:17 -0400] \"GET /images/ksclogo-medium.gif HTTP/1.0\" 304 0\n",
    "    \n",
    "    Want to produce random IP address from list of IPs (so that there will be many duplicates) and \n",
    "    web address requests from random list of requests.\n",
    "\n",
    "    \"\"\"\n",
    "    \n",
    "    log = produce_log()\n",
    "    \n",
    "def produce_log():\n",
    "    # produce random log file to be sent to kafka stream\n",
    "    # this functions calls functions below and combines their outputs to make a log\n",
    "    \n",
    "    # the user info is blanked out as \"-\"\n",
    "    \n",
    "    ip = produce_ip()\n",
    "    date_time = produce_date_time()\n",
    "    request = produce_request()\n",
    "    response = produce_response()\n",
    "    bytes = produce_bytes()\n",
    "    \n",
    "    log = \" \".join([ip, \"-\", \"-\", date_time, request, response, bytes])\n",
    "    \n",
    "    return log\n",
    "    \n",
    "def produce_ip():\n",
    "    # produced from random ip producer - each of 4 parts of ip produced randomly\n",
    "    # each of four sections of ip is random number from 0 to 255\n",
    "    return \".\".join([str(randint(0,255)) for _ in range(4)])\n",
    "    \n",
    "def produce_date_time(): \n",
    "    # use some kind of poisson process here to produce times with realistic distribution\n",
    "    # for now just make them come every second\n",
    "    pass \n",
    "\n",
    "def produce_request():\n",
    "    # drawn from random list of requests - request is for specific subpage of website\n",
    "    return \"\"\"\"GET /images/ksclogo-medium.gif HTTP/1.0\"\"\"\"\n",
    "\n",
    "def produce_response():\n",
    "    # return a positive response for now\n",
    "    return \"200\"\n",
    "\n",
    "def produce_bytes(request, http_response):\n",
    "    # uses dictionary to look up size of returned object based on request and response\n",
    "    return \"47122\"\n",
    "    "
   ]
  },
  {
   "cell_type": "code",
   "execution_count": 56,
   "metadata": {
    "collapsed": false
   },
   "outputs": [
    {
     "data": {
      "text/plain": [
       "'0.252.232.85'"
      ]
     },
     "execution_count": 56,
     "metadata": {},
     "output_type": "execute_result"
    }
   ],
   "source": [
    "from random import randint\n",
    "#print(randint(0,9))\n",
    "\".\".join([str(randint(0,255)) for _ in range(4)])"
   ]
  },
  {
   "cell_type": "code",
   "execution_count": 35,
   "metadata": {
    "collapsed": false
   },
   "outputs": [],
   "source": [
    "send_nasa_logs()"
   ]
  },
  {
   "cell_type": "code",
   "execution_count": 36,
   "metadata": {
    "collapsed": true
   },
   "outputs": [],
   "source": [
    "producer2 = KafkaProducer()"
   ]
  },
  {
   "cell_type": "code",
   "execution_count": 38,
   "metadata": {
    "collapsed": false
   },
   "outputs": [
    {
     "data": {
      "text/plain": [
       "<kafka.producer.future.FutureRecordMetadata at 0x1051b6410>"
      ]
     },
     "execution_count": 38,
     "metadata": {},
     "output_type": "execute_result"
    }
   ],
   "source": [
    "producer.send(\"default_topic\", \"test_message_nasa_function\")"
   ]
  },
  {
   "cell_type": "code",
   "execution_count": 57,
   "metadata": {
    "collapsed": false
   },
   "outputs": [
    {
     "data": {
      "text/plain": [
       "<kafka.producer.future.FutureRecordMetadata at 0x1051bed90>"
      ]
     },
     "execution_count": 57,
     "metadata": {},
     "output_type": "execute_result"
    }
   ],
   "source": [
    "producer.send(\"python-kafka-topic\", \"YET_AGAIN_MESSAGE\")"
   ]
  },
  {
   "cell_type": "code",
   "execution_count": 59,
   "metadata": {
    "collapsed": true
   },
   "outputs": [],
   "source": [
    "send_simple_logs(msg_count = 10, topic=\"python-kafka-topic\")"
   ]
  },
  {
   "cell_type": "code",
   "execution_count": 60,
   "metadata": {
    "collapsed": true
   },
   "outputs": [],
   "source": [
    "producer1 = KafkaProducer()"
   ]
  },
  {
   "cell_type": "code",
   "execution_count": 61,
   "metadata": {
    "collapsed": false
   },
   "outputs": [
    {
     "data": {
      "text/plain": [
       "<kafka.producer.future.FutureRecordMetadata at 0x105222710>"
      ]
     },
     "execution_count": 61,
     "metadata": {},
     "output_type": "execute_result"
    }
   ],
   "source": [
    "producer1.send(\"python-kafka-topic\", \"function_testing_message\")"
   ]
  },
  {
   "cell_type": "code",
   "execution_count": 64,
   "metadata": {
    "collapsed": true
   },
   "outputs": [],
   "source": [
    "for i in xrange(4):\n",
    "    producer1.send(\"python-kafka-topic\", \"TEST SENT MESSAGE {} FROM IPYTHON\".format(i))"
   ]
  },
  {
   "cell_type": "code",
   "execution_count": 74,
   "metadata": {
    "collapsed": true
   },
   "outputs": [],
   "source": [
    "# strange issue - doing this within a function doesn't seem to work, but doing \n",
    "# exact same code outside of function works just fine\n",
    "\n",
    "def send_simple_logs(msg_count = 10, topic=\"default_topic\"):\n",
    "    \"\"\" Make simple log producer - for now don't worry about good-looking logs\n",
    "    \"\"\"\n",
    "    # create producer\n",
    "    producer = KafkaProducer()\n",
    "    # send msg_count messages to topic\n",
    "    for i in xrange(msg_count):\n",
    "        producer.send(topic, \"SENT MESSAGE {} FROM WITHIN FUNCTION\".format(i))"
   ]
  },
  {
   "cell_type": "code",
   "execution_count": 75,
   "metadata": {
    "collapsed": false
   },
   "outputs": [],
   "source": [
    "send_simple_logs(10, topic=\"python-kafka-topic\")"
   ]
  },
  {
   "cell_type": "code",
   "execution_count": 76,
   "metadata": {
    "collapsed": true
   },
   "outputs": [],
   "source": [
    "producer = KafkaProducer()\n",
    "# send msg_count messages to topic\n",
    "for i in xrange(6):\n",
    "    producer.send(\"python-kafka-topic\", \"SENT MESSAGE {} FROM WITHIN FUNCTION\".format(i))"
   ]
  },
  {
   "cell_type": "code",
   "execution_count": 77,
   "metadata": {
    "collapsed": true
   },
   "outputs": [],
   "source": [
    "# try sending file into kafka stream\n",
    "producer2 = KafkaProducer()"
   ]
  },
  {
   "cell_type": "code",
   "execution_count": 79,
   "metadata": {
    "collapsed": false
   },
   "outputs": [
    {
     "name": "stdout",
     "output_type": "stream",
     "text": [
      "Kafka_Experiments.ipynb  kafka_experiments.py     log_test.txt\r\n"
     ]
    }
   ],
   "source": [
    "%ls"
   ]
  },
  {
   "cell_type": "code",
   "execution_count": 82,
   "metadata": {
    "collapsed": false
   },
   "outputs": [
    {
     "name": "stdout",
     "output_type": "stream",
     "text": [
      "199.72.81.55 - - [01/Jul/1995:00:00:01 -0400] \"GET /history/apollo/ HTTP/1.0\" 200 6245\n",
      "\n",
      "unicomp6.unicomp.net - - [01/Jul/1995:00:00:06 -0400] \"GET /shuttle/countdown/ HTTP/1.0\" 200 3985\n",
      "\n",
      "210.238.40.43 - - [01/Jul/1995:00:00:09 -0400] \"GET / HTTP/1.0\" 200 7074\n",
      "\n",
      "207.237.55.38 - - [01/Jul/1995:00:00:09 -0400] \"GET /history/mercury/mercury.html HTTP/1.0\" 200 1871\n",
      "\n",
      "219.156.97.22 - - [01/Jul/1995:00:00:09 -0400] \"GET /shuttle/technology/images/sts_spec_6-small.gif HTTP/1.0\" 200 47145\n",
      "\n",
      "xrf.koo.univie.ac.at - - [01/Jul/1995:00:00:09 -0400] \"GET /ksc.html HTTP/1.0\" 200 7071\n",
      "\n",
      "199.120.110.21 - - [01/Jul/1995:00:00:09 -0400] \"GET /shuttle/missions/sts-73/mission-sts-73.html HTTP/1.0\" 200 4085\n",
      "\n",
      "burger.letters.com - - [01/Jul/1995:00:00:11 -0400] \"GET /shuttle/countdown/liftoff.html HTTP/1.0\" 304 0\n",
      "\n",
      "199.120.110.21 - - [01/Jul/1995:00:00:11 -0400] \"GET /shuttle/missions/sts-73/sts-73-patch-small.gif HTTP/1.0\" 200 4179\n",
      "\n",
      "210.279.72.52 - - [01/Jul/1995:00:00:12 -0400] \"GET / HTTP/1.0\" 200 7074\n",
      "\n"
     ]
    }
   ],
   "source": [
    "# iterate through python file line by line\n",
    "with open('log_test.txt', 'r') as f:\n",
    "    for line in f:\n",
    "        print line"
   ]
  },
  {
   "cell_type": "code",
   "execution_count": 83,
   "metadata": {
    "collapsed": true
   },
   "outputs": [],
   "source": [
    "# send lines of text file to kafka - SUCCESS!\n",
    "# still need to understand how to kill kafka streams better\n",
    "\n",
    "producer3 = KafkaProducer()\n",
    "with open('log_test.txt', 'r') as f:\n",
    "    for line in f:\n",
    "        producer.send(\"python-kafka-topic\", line)"
   ]
  },
  {
   "cell_type": "code",
   "execution_count": 84,
   "metadata": {
    "collapsed": true
   },
   "outputs": [],
   "source": [
    "# send lines of text file to kafka \n",
    "\n",
    "producer3 = KafkaProducer()\n",
    "with open('log_test.txt', 'r') as f:\n",
    "    for line in f:\n",
    "        producer.send(\"python-kafka-topic\", line + \"THIS WAS A LINE READ FROM FILE\")"
   ]
  },
  {
   "cell_type": "code",
   "execution_count": null,
   "metadata": {
    "collapsed": true
   },
   "outputs": [],
   "source": []
  }
 ],
 "metadata": {
  "anaconda-cloud": {},
  "kernelspec": {
   "display_name": "Python [default]",
   "language": "python",
   "name": "python2"
  },
  "language_info": {
   "codemirror_mode": {
    "name": "ipython",
    "version": 2
   },
   "file_extension": ".py",
   "mimetype": "text/x-python",
   "name": "python",
   "nbconvert_exporter": "python",
   "pygments_lexer": "ipython2",
   "version": "2.7.12"
  }
 },
 "nbformat": 4,
 "nbformat_minor": 2
}
